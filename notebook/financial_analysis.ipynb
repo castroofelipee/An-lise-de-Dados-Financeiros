{
 "cells": [
  {
   "cell_type": "code",
   "execution_count": null,
   "metadata": {},
   "outputs": [],
   "source": [
    "plt.figure(figsize=(10, 6))\n",
    "plt.plot(sales_df['date'], sales_df['revenue'], label='Revenue', marker='o')\n",
    "plt.plot(expenses_df['date'], expenses_df['expenses'], label='Expenses', marker='o')\n",
    "plt.xlabel('Date')\n",
    "plt.ylabel('Amount')\n",
    "plt.title('Financial Data Analysis')\n",
    "plt.legend()\n",
    "plt.show()"
   ]
  },
  {
   "cell_type": "code",
   "execution_count": null,
   "metadata": {},
   "outputs": [],
   "source": [
    "print(f'Total Revenue: ${total_revenue}')\n",
    "print(f'Total Expenses: ${total_expenses}')\n",
    "print(f'Profit: ${profit}')"
   ]
  }
 ],
 "metadata": {
  "language_info": {
   "name": "python"
  },
  "orig_nbformat": 4
 },
 "nbformat": 4,
 "nbformat_minor": 2
}
